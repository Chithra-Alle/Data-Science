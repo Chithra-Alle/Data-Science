{
 "cells": [
  {
   "cell_type": "code",
   "execution_count": 1,
   "id": "aaf46a5a",
   "metadata": {},
   "outputs": [
    {
     "data": {
      "text/plain": [
       "0.09090909090909091"
      ]
     },
     "execution_count": 1,
     "metadata": {},
     "output_type": "execute_result"
    }
   ],
   "source": [
    "import job_analyzer\n",
    "\n",
    "res=job_analyzer.cal_sal(1000)\n",
    "res\n",
    "job_analyzer.cal_bon(1200,1100)"
   ]
  },
  {
   "cell_type": "code",
   "execution_count": 2,
   "id": "a9311914",
   "metadata": {},
   "outputs": [
    {
     "name": "stdout",
     "output_type": "stream",
     "text": [
      "Help on function cal_sal in module job_analyzer:\n",
      "\n",
      "cal_sal(base, bonus=0.1)\n",
      "    Calculates the total salary based on the base salary and bonus salary\n",
      "\n"
     ]
    }
   ],
   "source": [
    "# now if you give this file to somebody, and they might know what function does what..\n",
    "# so to understand they just need to run below code\n",
    "\n",
    "help(job_analyzer.cal_sal)"
   ]
  }
 ],
 "metadata": {
  "kernelspec": {
   "display_name": "Python 3",
   "language": "python",
   "name": "python3"
  },
  "language_info": {
   "codemirror_mode": {
    "name": "ipython",
    "version": 3
   },
   "file_extension": ".py",
   "mimetype": "text/x-python",
   "name": "python",
   "nbconvert_exporter": "python",
   "pygments_lexer": "ipython3",
   "version": "3.13.2"
  }
 },
 "nbformat": 4,
 "nbformat_minor": 5
}
