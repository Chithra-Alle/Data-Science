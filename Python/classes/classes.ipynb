{
 "cells": [
  {
   "cell_type": "code",
   "execution_count": 67,
   "id": "db7880b7",
   "metadata": {},
   "outputs": [
    {
     "data": {
      "text/plain": [
       "$100"
      ]
     },
     "execution_count": 67,
     "metadata": {},
     "output_type": "execute_result"
    }
   ],
   "source": [
    "class BaseSalary:\n",
    "    def __init__(self,bs,bonus=.1,symbol='$'):\n",
    "        self.bs=bs\n",
    "        self.bonus=bonus\n",
    "        self.symbol=symbol\n",
    "        self.tot_sal=bs*(1+bonus)\n",
    "\n",
    "    def __repr__(self):\n",
    "        return f\"{self.symbol}{self.bs:,.0f}\"\n",
    "    \n",
    "    def cal_sal(self):\n",
    "        return f\"{self.symbol}{self.tot_sal:,.0f}\"\n",
    "    def cal_bon(self):\n",
    "        return f\"{self.symbol}{self.tot_sal-self.bs:,.0f}\"\n",
    "\n",
    "BaseSalary(100)"
   ]
  },
  {
   "cell_type": "code",
   "execution_count": 68,
   "id": "7e0667c7",
   "metadata": {},
   "outputs": [],
   "source": [
    "obj= BaseSalary(100000)"
   ]
  },
  {
   "cell_type": "code",
   "execution_count": 69,
   "id": "58a8c22a",
   "metadata": {},
   "outputs": [
    {
     "data": {
      "text/plain": [
       "$100,000"
      ]
     },
     "execution_count": 69,
     "metadata": {},
     "output_type": "execute_result"
    }
   ],
   "source": [
    "obj"
   ]
  },
  {
   "cell_type": "code",
   "execution_count": 70,
   "id": "6a628682",
   "metadata": {},
   "outputs": [
    {
     "data": {
      "text/plain": [
       "'$110,000'"
      ]
     },
     "execution_count": 70,
     "metadata": {},
     "output_type": "execute_result"
    }
   ],
   "source": [
    "obj.cal_sal()"
   ]
  },
  {
   "cell_type": "code",
   "execution_count": 71,
   "id": "8c22fcca",
   "metadata": {},
   "outputs": [
    {
     "data": {
      "text/plain": [
       "'$10,000'"
      ]
     },
     "execution_count": 71,
     "metadata": {},
     "output_type": "execute_result"
    }
   ],
   "source": [
    "obj.cal_bon()"
   ]
  }
 ],
 "metadata": {
  "kernelspec": {
   "display_name": "Python 3",
   "language": "python",
   "name": "python3"
  },
  "language_info": {
   "codemirror_mode": {
    "name": "ipython",
    "version": 3
   },
   "file_extension": ".py",
   "mimetype": "text/x-python",
   "name": "python",
   "nbconvert_exporter": "python",
   "pygments_lexer": "ipython3",
   "version": "3.13.2"
  }
 },
 "nbformat": 4,
 "nbformat_minor": 5
}
