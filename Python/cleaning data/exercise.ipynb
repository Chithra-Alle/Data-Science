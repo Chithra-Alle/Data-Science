{
 "cells": [
  {
   "cell_type": "markdown",
   "id": "6e865803",
   "metadata": {},
   "source": [
    "### datetime"
   ]
  },
  {
   "cell_type": "code",
   "execution_count": null,
   "id": "e6739904",
   "metadata": {},
   "outputs": [
    {
     "data": {
      "text/plain": [
       "datetime.datetime(2025, 7, 8, 13, 2, 36, 336327)"
      ]
     },
     "execution_count": 3,
     "metadata": {},
     "output_type": "execute_result"
    }
   ],
   "source": [
    "from datetime import datetime,date\n",
    "datetime.now()"
   ]
  },
  {
   "cell_type": "code",
   "execution_count": 23,
   "id": "0dbfdc1e",
   "metadata": {},
   "outputs": [
    {
     "data": {
      "text/plain": [
       "str"
      ]
     },
     "execution_count": 23,
     "metadata": {},
     "output_type": "execute_result"
    }
   ],
   "source": [
    "data_science_jobs = [\n",
    "    {\n",
    "        \"job_title\": \"Data Scientist\",\n",
    "        \"job_skills\": '[\"Python\", \"SQL\", \"Machine Learning\"]',\n",
    "        \"job_date\": \"2023-05-12\"\n",
    "    },\n",
    "    {\n",
    "        \"job_title\": \"Machine Learning Engineer\",\n",
    "        \"job_skills\": '[\"Python\", \"TensorFlow\", \"Keras\", \"Deep Learning\"]',\n",
    "        \"job_date\": \"2023-06-01\"\n",
    "    },\n",
    "    {\n",
    "        \"job_title\": \"Data Analyst\",\n",
    "        \"job_skills\": '[\"Excel\", \"Power BI\", \"SQL\", \"Statistics\"]',\n",
    "        \"job_date\": \"2023-06-18\"\n",
    "    },\n",
    "    {\n",
    "        \"job_title\": \"AI Research Scientist\",\n",
    "        \"job_skills\": '[\"PyTorch\", \"Natural Language Processing\", \"Mathematics\"]',\n",
    "        \"job_date\": \"2023-07-22\"\n",
    "    },\n",
    "    {\n",
    "        \"job_title\": \"Business Intelligence Developer\",\n",
    "        \"job_skills\": '[\"SQL\", \"Tableau\", \"Data Modeling\", \"ETL\"]',\n",
    "        \"job_date\": \"2023-08-05\"\n",
    "    },\n",
    "    {\n",
    "        \"job_title\": \"Big Data Engineer\",\n",
    "        \"job_skills\": '[\"Spark\", \"Hadoop\", \"Scala\", \"Data Pipelines\"]',\n",
    "        \"job_date\": \"2023-09-14\"\n",
    "    },\n",
    "    {\n",
    "        \"job_title\": \"Data Engineer\",\n",
    "        \"job_skills\": '[\"Python\", \"Airflow\", \"PostgreSQL\", \"Cloud Platforms\"]',\n",
    "        \"job_date\": \"2023-10-10\"\n",
    "    },\n",
    "    {\n",
    "        \"job_title\": \"NLP Engineer\",\n",
    "        \"job_skills\": '[\"Spacy\", \"Transformers\", \"Text Analytics\"]',\n",
    "        \"job_date\": \"2023-11-03\"\n",
    "    },\n",
    "    {\n",
    "        \"job_title\": \"Computer Vision Specialist\",\n",
    "        \"job_skills\": '[\"OpenCV\", \"Deep Learning\", \"YOLO\", \"Image Processing\"]',\n",
    "        \"job_date\": \"2023-12-15\"\n",
    "    },\n",
    "    {\n",
    "        \"job_title\": \"Data Science Intern\",\n",
    "        \"job_skills\": '[\"Python\", \"Jupyter\", \"Data Visualization\"]',\n",
    "        \"job_date\": \"2024-01-08\"\n",
    "    }\n",
    "]\n",
    "type(data_science_jobs[0][\"job_skills\"])"
   ]
  },
  {
   "cell_type": "markdown",
   "id": "bd684591",
   "metadata": {},
   "source": [
    "### strptime\n",
    "###### string parse time\n",
    "###### we have a string and we want to pass it to time\n",
    "###### it takes two arguments 1.date_string, 2.format"
   ]
  },
  {
   "cell_type": "code",
   "execution_count": 24,
   "id": "da30db0a",
   "metadata": {},
   "outputs": [],
   "source": [
    "for job in data_science_jobs:\n",
    "    job[\"job_date\"]=datetime.strptime(job['job_date'],\"%Y-%m-%d\")\n",
    "\n"
   ]
  },
  {
   "cell_type": "code",
   "execution_count": 25,
   "id": "e56d3ddf",
   "metadata": {},
   "outputs": [
    {
     "data": {
      "text/plain": [
       "[{'job_title': 'Data Scientist',\n",
       "  'job_skills': '[\"Python\", \"SQL\", \"Machine Learning\"]',\n",
       "  'job_date': datetime.datetime(2023, 5, 12, 0, 0)},\n",
       " {'job_title': 'Machine Learning Engineer',\n",
       "  'job_skills': '[\"Python\", \"TensorFlow\", \"Keras\", \"Deep Learning\"]',\n",
       "  'job_date': datetime.datetime(2023, 6, 1, 0, 0)},\n",
       " {'job_title': 'Data Analyst',\n",
       "  'job_skills': '[\"Excel\", \"Power BI\", \"SQL\", \"Statistics\"]',\n",
       "  'job_date': datetime.datetime(2023, 6, 18, 0, 0)},\n",
       " {'job_title': 'AI Research Scientist',\n",
       "  'job_skills': '[\"PyTorch\", \"Natural Language Processing\", \"Mathematics\"]',\n",
       "  'job_date': datetime.datetime(2023, 7, 22, 0, 0)},\n",
       " {'job_title': 'Business Intelligence Developer',\n",
       "  'job_skills': '[\"SQL\", \"Tableau\", \"Data Modeling\", \"ETL\"]',\n",
       "  'job_date': datetime.datetime(2023, 8, 5, 0, 0)},\n",
       " {'job_title': 'Big Data Engineer',\n",
       "  'job_skills': '[\"Spark\", \"Hadoop\", \"Scala\", \"Data Pipelines\"]',\n",
       "  'job_date': datetime.datetime(2023, 9, 14, 0, 0)},\n",
       " {'job_title': 'Data Engineer',\n",
       "  'job_skills': '[\"Python\", \"Airflow\", \"PostgreSQL\", \"Cloud Platforms\"]',\n",
       "  'job_date': datetime.datetime(2023, 10, 10, 0, 0)},\n",
       " {'job_title': 'NLP Engineer',\n",
       "  'job_skills': '[\"Spacy\", \"Transformers\", \"Text Analytics\"]',\n",
       "  'job_date': datetime.datetime(2023, 11, 3, 0, 0)},\n",
       " {'job_title': 'Computer Vision Specialist',\n",
       "  'job_skills': '[\"OpenCV\", \"Deep Learning\", \"YOLO\", \"Image Processing\"]',\n",
       "  'job_date': datetime.datetime(2023, 12, 15, 0, 0)},\n",
       " {'job_title': 'Data Science Intern',\n",
       "  'job_skills': '[\"Python\", \"Jupyter\", \"Data Visualization\"]',\n",
       "  'job_date': datetime.datetime(2024, 1, 8, 0, 0)}]"
      ]
     },
     "execution_count": 25,
     "metadata": {},
     "output_type": "execute_result"
    }
   ],
   "source": [
    "data_science_jobs"
   ]
  },
  {
   "cell_type": "markdown",
   "id": "ec16412d",
   "metadata": {},
   "source": [
    "# ast\n",
    "##### Abstract Syntax Trees"
   ]
  },
  {
   "cell_type": "code",
   "execution_count": 26,
   "id": "ada4a67f",
   "metadata": {},
   "outputs": [],
   "source": [
    "import ast\n",
    "\n",
    "for job in data_science_jobs:\n",
    "    job[\"job_skills\"]=ast.literal_eval(job[\"job_skills\"])"
   ]
  },
  {
   "cell_type": "code",
   "execution_count": 27,
   "id": "440514ed",
   "metadata": {},
   "outputs": [
    {
     "data": {
      "text/plain": [
       "[{'job_title': 'Data Scientist',\n",
       "  'job_skills': ['Python', 'SQL', 'Machine Learning'],\n",
       "  'job_date': datetime.datetime(2023, 5, 12, 0, 0)},\n",
       " {'job_title': 'Machine Learning Engineer',\n",
       "  'job_skills': ['Python', 'TensorFlow', 'Keras', 'Deep Learning'],\n",
       "  'job_date': datetime.datetime(2023, 6, 1, 0, 0)},\n",
       " {'job_title': 'Data Analyst',\n",
       "  'job_skills': ['Excel', 'Power BI', 'SQL', 'Statistics'],\n",
       "  'job_date': datetime.datetime(2023, 6, 18, 0, 0)},\n",
       " {'job_title': 'AI Research Scientist',\n",
       "  'job_skills': ['PyTorch', 'Natural Language Processing', 'Mathematics'],\n",
       "  'job_date': datetime.datetime(2023, 7, 22, 0, 0)},\n",
       " {'job_title': 'Business Intelligence Developer',\n",
       "  'job_skills': ['SQL', 'Tableau', 'Data Modeling', 'ETL'],\n",
       "  'job_date': datetime.datetime(2023, 8, 5, 0, 0)},\n",
       " {'job_title': 'Big Data Engineer',\n",
       "  'job_skills': ['Spark', 'Hadoop', 'Scala', 'Data Pipelines'],\n",
       "  'job_date': datetime.datetime(2023, 9, 14, 0, 0)},\n",
       " {'job_title': 'Data Engineer',\n",
       "  'job_skills': ['Python', 'Airflow', 'PostgreSQL', 'Cloud Platforms'],\n",
       "  'job_date': datetime.datetime(2023, 10, 10, 0, 0)},\n",
       " {'job_title': 'NLP Engineer',\n",
       "  'job_skills': ['Spacy', 'Transformers', 'Text Analytics'],\n",
       "  'job_date': datetime.datetime(2023, 11, 3, 0, 0)},\n",
       " {'job_title': 'Computer Vision Specialist',\n",
       "  'job_skills': ['OpenCV', 'Deep Learning', 'YOLO', 'Image Processing'],\n",
       "  'job_date': datetime.datetime(2023, 12, 15, 0, 0)},\n",
       " {'job_title': 'Data Science Intern',\n",
       "  'job_skills': ['Python', 'Jupyter', 'Data Visualization'],\n",
       "  'job_date': datetime.datetime(2024, 1, 8, 0, 0)}]"
      ]
     },
     "execution_count": 27,
     "metadata": {},
     "output_type": "execute_result"
    }
   ],
   "source": [
    "data_science_jobs"
   ]
  },
  {
   "cell_type": "code",
   "execution_count": null,
   "id": "b01c3cac",
   "metadata": {},
   "outputs": [],
   "source": []
  }
 ],
 "metadata": {
  "kernelspec": {
   "display_name": "Python 3",
   "language": "python",
   "name": "python3"
  },
  "language_info": {
   "codemirror_mode": {
    "name": "ipython",
    "version": 3
   },
   "file_extension": ".py",
   "mimetype": "text/x-python",
   "name": "python",
   "nbconvert_exporter": "python",
   "pygments_lexer": "ipython3",
   "version": "3.13.2"
  }
 },
 "nbformat": 4,
 "nbformat_minor": 5
}
