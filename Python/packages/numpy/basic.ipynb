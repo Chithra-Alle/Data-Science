{
 "cells": [
  {
   "cell_type": "code",
   "execution_count": 1,
   "id": "25c33abc",
   "metadata": {},
   "outputs": [],
   "source": [
    "import numpy as np"
   ]
  },
  {
   "cell_type": "code",
   "execution_count": 4,
   "id": "6000e611",
   "metadata": {},
   "outputs": [
    {
     "data": {
      "text/plain": [
       "np.float64(2.5)"
      ]
     },
     "execution_count": 4,
     "metadata": {},
     "output_type": "execute_result"
    }
   ],
   "source": [
    "# to define an array\n",
    "\n",
    "m = np.array([1,2,3,4])\n",
    "m.mean()"
   ]
  },
  {
   "cell_type": "code",
   "execution_count": 12,
   "id": "4d43bab3",
   "metadata": {},
   "outputs": [],
   "source": [
    "jt = np.array(['data analyst', 'data scientist', 'data engineer', 'machine learning engineer'])\n",
    "s = np.array([60000,70000,80000,np.nan])\n",
    "b = np.array([.05,.1,.08,.12])"
   ]
  },
  {
   "cell_type": "code",
   "execution_count": 13,
   "id": "9b07b7e4",
   "metadata": {},
   "outputs": [
    {
     "data": {
      "text/plain": [
       "array([63000., 77000., 86400.,    nan])"
      ]
     },
     "execution_count": 13,
     "metadata": {},
     "output_type": "execute_result"
    }
   ],
   "source": [
    "to_sal = s * (1 + b)\n",
    "to_sal"
   ]
  },
  {
   "cell_type": "code",
   "execution_count": null,
   "id": "6c6cd38e",
   "metadata": {},
   "outputs": [
    {
     "data": {
      "text/plain": [
       "np.float64(75466.66666666667)"
      ]
     },
     "execution_count": 15,
     "metadata": {},
     "output_type": "execute_result"
    }
   ],
   "source": [
    "np.nanmean(to_sal)"
   ]
  },
  {
   "cell_type": "code",
   "execution_count": 11,
   "id": "0113d6a1",
   "metadata": {},
   "outputs": [
    {
     "data": {
      "text/plain": [
       "float"
      ]
     },
     "execution_count": 11,
     "metadata": {},
     "output_type": "execute_result"
    }
   ],
   "source": [
    "# for example if a list has no value, we cannot simply putzero or anything becausee that will ffect the mean\n",
    "# if we put none it cannot b used for operations\n",
    "# so we use nan\n",
    "# as the type of nan is a float, we can easily do operations on it without effecting anything\n",
    "type(np.nan)"
   ]
  },
  {
   "cell_type": "code",
   "execution_count": null,
   "id": "3a5bef0e",
   "metadata": {},
   "outputs": [],
   "source": []
  }
 ],
 "metadata": {
  "kernelspec": {
   "display_name": "Python 3",
   "language": "python",
   "name": "python3"
  },
  "language_info": {
   "codemirror_mode": {
    "name": "ipython",
    "version": 3
   },
   "file_extension": ".py",
   "mimetype": "text/x-python",
   "name": "python",
   "nbconvert_exporter": "python",
   "pygments_lexer": "ipython3",
   "version": "3.13.2"
  }
 },
 "nbformat": 4,
 "nbformat_minor": 5
}
