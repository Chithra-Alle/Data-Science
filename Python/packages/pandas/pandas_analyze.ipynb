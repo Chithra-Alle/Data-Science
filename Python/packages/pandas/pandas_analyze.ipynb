{
 "cells": [
  {
   "cell_type": "markdown",
   "id": "07dc9e9a",
   "metadata": {},
   "source": [
    "groupby\n",
    "agg\n",
    "etc\n",
    "basically implementing all sql queries though this\n"
   ]
  }
 ],
 "metadata": {
  "language_info": {
   "name": "python"
  }
 },
 "nbformat": 4,
 "nbformat_minor": 5
}
