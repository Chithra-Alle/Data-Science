{
 "cells": [
  {
   "cell_type": "markdown",
   "id": "3d8e7524",
   "metadata": {},
   "source": [
    "## timeit\n",
    "syntax: %timit statement(for single line)<br>\n",
    "syntax: %%timeit<br>\n",
    "        codeblock (for multiple lines)<br>\n",
    "We use %timeit when we want to measure how fast a piece of code runs, especially when:\n",
    "1. Comparing Multiple Implementations\n",
    "2. Optimizing Slow Code\n",
    "3. Understanding Performance of Built-in Functions\n",
    "4. Learning Cost of Operations\n",
    "5. Profiling Small Code Snippets Before Production\n",
    "6. Checking the Impact of Data Size\n",
    "\n",
    "\n",
    "\n"
   ]
  },
  {
   "cell_type": "markdown",
   "id": "d7ea3cc2",
   "metadata": {},
   "source": [
    "# python terms\n"
   ]
  },
  {
   "cell_type": "markdown",
   "id": "32d39f28",
   "metadata": {},
   "source": [
    "### Objects : The data records\n",
    "Object: A data record with fields, an instane of a class.<br>\n",
    "Everything in python is an object and it's basically a record of data.\n",
    "\n",
    "### Variables : The reference to Objects\n",
    "Variable: A defined name that refernces an object.<br>\n",
    "id(varibale_name) # returns a unique id of an object\n",
    "\n",
    "### Functions : The manipulators of objects\n",
    "Function: A reusable piece of code that performs a specific task.\n",
    "\n",
    "\n"
   ]
  },
  {
   "cell_type": "markdown",
   "id": "2b7241c4",
   "metadata": {},
   "source": [
    "### Classes : The template of objects\n",
    "Class: A template for creating objects(records).\n",
    "\n",
    "### data types\n",
    "1. text - str\n",
    "2. numeric - int, float, complex\n",
    "3. sequence - list[], tuple(), range\n",
    "4. mapping - dict{:}\n",
    "5. set - set{}\n",
    "6. boolean - bool\n",
    "7. binary - bytes, bytearray, memoryview\n",
    "8. none - noneType\n"
   ]
  },
  {
   "cell_type": "markdown",
   "id": "fdf23eb2",
   "metadata": {},
   "source": [
    "### Strings\n",
    "built in data type<br>\n",
    "syntax: \"...\" or '...'<br>\n",
    "s.upper(),s.replace(old,new,count)<br>\n",
    "s.split()# returns the list of the substrings in the string, using sep as the seperator string.<br>\n",
    "\n",
    "\n"
   ]
  },
  {
   "cell_type": "code",
   "execution_count": 2,
   "id": "25de01da",
   "metadata": {},
   "outputs": [
    {
     "data": {
      "text/plain": [
       "'chithraAlle'"
      ]
     },
     "execution_count": 2,
     "metadata": {},
     "output_type": "execute_result"
    }
   ],
   "source": [
    "\n",
    "str.__add__(\"chithra\",\"Alle\") or \"chithra\".__add__(\"alle\") or \"chithra\"+\"alle\""
   ]
  },
  {
   "cell_type": "markdown",
   "id": "7a700523",
   "metadata": {},
   "source": [
    "#### string formatting\n",
    "1. create the string \"Role: Data Analyst\"\n",
    "role = \"data analyst\"\n",
    "skill = 'python'\n",
    "\"Role: {}\".format(role)\n",
    "\n",
    "2. create the string \"Role: Data Analyst; skill requires: Python\"\n",
    "\"Role: {}; skill requires: {}\".format(role,skill)\n",
    "\n",
    "#### String Literals\n",
    "print(f\"Name: {name}\\n Salary: {salary:.0f}\")<br>\n",
    "This is a formatted string literal, also called an f-string\n",
    "> :.0f means: round to nearest whole number<br>\n",
    "> :,.2f means: Thousands Separator (comma)\n",
    "\n",
    "#### printf-style\n",
    "'Role: %s\" %(role)\n",
    "\n"
   ]
  },
  {
   "cell_type": "markdown",
   "id": "76ca18ea",
   "metadata": {},
   "source": [
    "## Operators"
   ]
  },
  {
   "cell_type": "code",
   "execution_count": 3,
   "id": "deb3ad65",
   "metadata": {},
   "outputs": [
    {
     "data": {
      "text/plain": [
       "5.0"
      ]
     },
     "execution_count": 3,
     "metadata": {},
     "output_type": "execute_result"
    }
   ],
   "source": [
    "2 + 3.0"
   ]
  },
  {
   "cell_type": "code",
   "execution_count": 5,
   "id": "b0685799",
   "metadata": {},
   "outputs": [
    {
     "data": {
      "text/plain": [
       "7"
      ]
     },
     "execution_count": 5,
     "metadata": {},
     "output_type": "execute_result"
    }
   ],
   "source": [
    "two = 2\n",
    "two.__add__(5)"
   ]
  },
  {
   "cell_type": "code",
   "execution_count": 6,
   "id": "dc250db8",
   "metadata": {},
   "outputs": [
    {
     "data": {
      "text/plain": [
       "2.5"
      ]
     },
     "execution_count": 6,
     "metadata": {},
     "output_type": "execute_result"
    }
   ],
   "source": [
    "5/2"
   ]
  },
  {
   "cell_type": "code",
   "execution_count": 7,
   "id": "54937b57",
   "metadata": {},
   "outputs": [
    {
     "data": {
      "text/plain": [
       "2"
      ]
     },
     "execution_count": 7,
     "metadata": {},
     "output_type": "execute_result"
    }
   ],
   "source": [
    "5//2"
   ]
  },
  {
   "cell_type": "markdown",
   "id": "9398a886",
   "metadata": {},
   "source": [
    "#### mutable vs immutable in python\n",
    "Mutable<br>\n",
    "1. lists\n",
    "2. dict\n",
    "3. sets\n",
    "\n",
    "immutable<br>\n",
    "1. strings\n",
    "2. integers\n",
    "3. tuples"
   ]
  },
  {
   "cell_type": "code",
   "execution_count": 10,
   "id": "4c9c01bf",
   "metadata": {},
   "outputs": [
    {
     "data": {
      "text/plain": [
       "{'akhila', 'chithra', 'divya', 'zeorge'}"
      ]
     },
     "execution_count": 10,
     "metadata": {},
     "output_type": "execute_result"
    }
   ],
   "source": [
    "s = {\"chithra\", \"akhila\", \"divya\", \"zeorge\"}\n",
    "s"
   ]
  },
  {
   "cell_type": "code",
   "execution_count": 11,
   "id": "0414949a",
   "metadata": {},
   "outputs": [
    {
     "data": {
      "text/plain": [
       "{'akhila', 'chithra', 'divya', 'supriya', 'zeorge'}"
      ]
     },
     "execution_count": 11,
     "metadata": {},
     "output_type": "execute_result"
    }
   ],
   "source": [
    "s.add(\"supriya\")\n",
    "s"
   ]
  },
  {
   "cell_type": "code",
   "execution_count": 13,
   "id": "f58c5566",
   "metadata": {},
   "outputs": [
    {
     "data": {
      "text/plain": [
       "'zeorge'"
      ]
     },
     "execution_count": 13,
     "metadata": {},
     "output_type": "execute_result"
    }
   ],
   "source": [
    "s.pop()"
   ]
  },
  {
   "cell_type": "markdown",
   "id": "fe17ad44",
   "metadata": {},
   "source": [
    "|Feature|List|Dict|Set|Tuple|\n",
    "|-------|----|------|----|----|\n",
    "|syntax|[]|{key:value}|{}|()|\n",
    "|type of data|sequence|mapping|set|sequence|\n",
    "|order|ordered|unordered|unordered|ordered|\n",
    "|indexing|yes|yes|no|yes|\n",
    "|duplicate|allowed|values can be duplicant, keys cannot|not allowed|allowed|\n",
    "|mutability|yes|yes|yes|no|"
   ]
  },
  {
   "cell_type": "markdown",
   "id": "4162cf9c",
   "metadata": {},
   "source": [
    "### list comprehension\n",
    "[x for x in rnage(10)]"
   ]
  },
  {
   "cell_type": "code",
   "execution_count": 20,
   "id": "a9201fe1",
   "metadata": {},
   "outputs": [
    {
     "name": "stdout",
     "output_type": "stream",
     "text": [
      "[0, 1, 2, 3, 4, 5, 6, 7, 8, 9]\n",
      "{'r', 't', 'h', 'c'}\n",
      "(0, 1, 2, 3, 4, 5, 6, 7, 8, 9)\n"
     ]
    }
   ],
   "source": [
    "num = [x for x in range(10)]\n",
    "print(num)\n",
    "vowels = ['a','e','i','o','u']\n",
    "num2 = {x for x in \"chithra\" if x not in vowels}\n",
    "print(num2)\n",
    "num3 = tuple(x for x in range(10))# if you won't use tuple here, it will create a generator....\n",
    "print(num3)\n",
    "\n",
    "# analyst_list = [job for job in job_list if \"data analyst\" in job]"
   ]
  },
  {
   "cell_type": "markdown",
   "id": "ecba87ff",
   "metadata": {},
   "source": [
    "## functions\n",
    "1. built in\n",
    "2. user-defined\n",
    "3. lamda\n"
   ]
  },
  {
   "cell_type": "code",
   "execution_count": 2,
   "id": "8280bae1",
   "metadata": {},
   "outputs": [
    {
     "name": "stdout",
     "output_type": "stream",
     "text": [
      "6\n"
     ]
    },
    {
     "data": {
      "text/plain": [
       "3"
      ]
     },
     "execution_count": 2,
     "metadata": {},
     "output_type": "execute_result"
    }
   ],
   "source": [
    "# Lambda Functions\n",
    "x=3\n",
    "fun = lambda x: x*2\n",
    "print(fun(x))\n",
    "x"
   ]
  },
  {
   "cell_type": "code",
   "execution_count": 5,
   "id": "d0f67c4c",
   "metadata": {},
   "outputs": [
    {
     "name": "stdout",
     "output_type": "stream",
     "text": [
      "6\n"
     ]
    }
   ],
   "source": [
    "print((lambda x: x*2)(x))"
   ]
  },
  {
   "cell_type": "code",
   "execution_count": 6,
   "id": "0a56b9ee",
   "metadata": {},
   "outputs": [
    {
     "data": {
      "text/plain": [
       "[11000.0, 22000.0, 16500.0, 13200.000000000002, 8800.0, 8250.0]"
      ]
     },
     "execution_count": 6,
     "metadata": {},
     "output_type": "execute_result"
    }
   ],
   "source": [
    "#type 1\n",
    "salary_list = [10000,20000,15000,12000,8000,7500]\n",
    "def cal(base_sal,bonus=.1):\n",
    "    tot = base_sal*(1+bonus)\n",
    "    return tot\n",
    "ls = [cal(x) for x in salary_list]\n",
    "ls"
   ]
  },
  {
   "cell_type": "code",
   "execution_count": 50,
   "id": "6386f8c7",
   "metadata": {},
   "outputs": [
    {
     "data": {
      "text/plain": [
       "[11000.0, 22000.0, 16500.0, 13200.000000000002, 8800.0, 8250.0]"
      ]
     },
     "execution_count": 50,
     "metadata": {},
     "output_type": "execute_result"
    }
   ],
   "source": [
    "#type 2\n",
    "fun = lambda base,bon=.1: base*(1+bon)\n",
    "ls = [fun(x) for x in salary_list]\n",
    "ls"
   ]
  },
  {
   "cell_type": "code",
   "execution_count": 51,
   "id": "da7a64c1",
   "metadata": {},
   "outputs": [
    {
     "data": {
      "text/plain": [
       "[11000.0, 22000.0, 16500.0, 13200.000000000002, 8800.0, 8250.0]"
      ]
     },
     "execution_count": 51,
     "metadata": {},
     "output_type": "execute_result"
    }
   ],
   "source": [
    "#type 3\n",
    "ls = [(lambda base,bon=.1: base*(1+bon))(x) for x in salary_list]\n",
    "ls"
   ]
  },
  {
   "cell_type": "markdown",
   "id": "4ae66cf6",
   "metadata": {},
   "source": [
    "### data filtering example"
   ]
  },
  {
   "cell_type": "code",
   "execution_count": 8,
   "id": "adf1094b",
   "metadata": {},
   "outputs": [],
   "source": [
    "job_data = [\n",
    "    {\n",
    "        \"job_title\": \"Data Scientist\",\n",
    "        \"job_skills\": [\"Python\", \"Machine Learning\", \"SQL\", \"Pandas\"],\n",
    "        \"remote\": True\n",
    "    },\n",
    "    {\n",
    "        \"job_title\": \"Machine Learning Engineer\",\n",
    "        \"job_skills\": [\"TensorFlow\", \"Scikit-learn\", \"Python\", \"Deep Learning\"],\n",
    "        \"remote\": False\n",
    "    },\n",
    "    {\n",
    "        \"job_title\": \"Data Analyst\",\n",
    "        \"job_skills\": [\"Excel\", \"Power BI\", \"SQL\", \"Statistics\"],\n",
    "        \"remote\": True\n",
    "    },\n",
    "    {\n",
    "        \"job_title\": \"AI Researcher\",\n",
    "        \"job_skills\": [\"NLP\", \"PyTorch\", \"Research\", \"Python\"],\n",
    "        \"remote\": False\n",
    "    },\n",
    "    {\n",
    "        \"job_title\": \"Business Intelligence Developer\",\n",
    "        \"job_skills\": [\"Tableau\", \"SQL\", \"ETL\", \"Data Warehousing\"],\n",
    "        \"remote\": True\n",
    "    }\n",
    "]\n"
   ]
  },
  {
   "cell_type": "code",
   "execution_count": 37,
   "id": "b930ac3f",
   "metadata": {},
   "outputs": [
    {
     "data": {
      "text/plain": [
       "[{'job_title': 'Data Scientist',\n",
       "  'job_skills': ['Python', 'Machine Learning', 'SQL', 'Pandas'],\n",
       "  'remote': True}]"
      ]
     },
     "execution_count": 37,
     "metadata": {},
     "output_type": "execute_result"
    }
   ],
   "source": [
    "res = filter(lambda x:x['remote'] and \"Python\" in x['job_skills'],job_data)\n",
    "list(res)"
   ]
  },
  {
   "cell_type": "code",
   "execution_count": 9,
   "id": "5cd1eafb",
   "metadata": {},
   "outputs": [
    {
     "name": "stdout",
     "output_type": "stream",
     "text": [
      "Help on class filter in module builtins:\n",
      "\n",
      "class filter(object)\n",
      " |  filter(function, iterable, /)\n",
      " |\n",
      " |  Return an iterator yielding those items of iterable for which function(item)\n",
      " |  is true. If function is None, return the items that are true.\n",
      " |\n",
      " |  Methods defined here:\n",
      " |\n",
      " |  __getattribute__(self, name, /)\n",
      " |      Return getattr(self, name).\n",
      " |\n",
      " |  __iter__(self, /)\n",
      " |      Implement iter(self).\n",
      " |\n",
      " |  __next__(self, /)\n",
      " |      Implement next(self).\n",
      " |\n",
      " |  __reduce__(self, /)\n",
      " |      Return state information for pickling.\n",
      " |\n",
      " |  ----------------------------------------------------------------------\n",
      " |  Static methods defined here:\n",
      " |\n",
      " |  __new__(*args, **kwargs)\n",
      " |      Create and return a new object.  See help(type) for accurate signature.\n",
      "\n"
     ]
    }
   ],
   "source": [
    "help(filter)"
   ]
  },
  {
   "cell_type": "code",
   "execution_count": 29,
   "id": "3c477281",
   "metadata": {},
   "outputs": [
    {
     "data": {
      "text/plain": [
       "[3, 5, 7]"
      ]
     },
     "execution_count": 29,
     "metadata": {},
     "output_type": "execute_result"
    }
   ],
   "source": [
    "l = [2,3,4,5,6,7]\n",
    "res = filter(lambda x:x%2, l)\n",
    "list(res)"
   ]
  },
  {
   "cell_type": "markdown",
   "id": "b7aec6b8",
   "metadata": {},
   "source": [
    "### Module\n",
    "is a single python file containing definitions and statements.\n",
    "### Package\n",
    "is a collection of python modules under a common namespace\n",
    "### library\n",
    "is a collection of packages or modules that are grouped together to provide functionality that can be utilized by other programmers"
   ]
  }
 ],
 "metadata": {
  "kernelspec": {
   "display_name": "Python 3",
   "language": "python",
   "name": "python3"
  },
  "language_info": {
   "codemirror_mode": {
    "name": "ipython",
    "version": 3
   },
   "file_extension": ".py",
   "mimetype": "text/x-python",
   "name": "python",
   "nbconvert_exporter": "python",
   "pygments_lexer": "ipython3",
   "version": "3.13.2"
  }
 },
 "nbformat": 4,
 "nbformat_minor": 5
}
