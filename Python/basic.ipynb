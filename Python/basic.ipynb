{
 "cells": [
  {
   "cell_type": "markdown",
   "id": "3d8e7524",
   "metadata": {},
   "source": [
    "## timeit\n",
    "syntax: %timit statement(for single line)<br>\n",
    "syntax: %%timeit<br>\n",
    "        codeblock (for multiple lines)<br>\n",
    "We use %timeit when we want to measure how fast a piece of code runs, especially when:\n",
    "1. Comparing Multiple Implementations\n",
    "2. Optimizing Slow Code\n",
    "3. Understanding Performance of Built-in Functions\n",
    "4. Learning Cost of Operations\n",
    "5. Profiling Small Code Snippets Before Production\n",
    "6. Checking the Impact of Data Size\n",
    "\n",
    "\n",
    "\n"
   ]
  },
  {
   "cell_type": "markdown",
   "id": "d7ea3cc2",
   "metadata": {},
   "source": [
    "# python terms\n"
   ]
  },
  {
   "cell_type": "markdown",
   "id": "32d39f28",
   "metadata": {},
   "source": [
    "### Objects : The data records\n",
    "Object: A data record with fields, an instane of a class.<br>\n",
    "Everything in python is an object and it's basically a record of data.\n",
    "\n",
    "### Variables : The reference to Objects\n",
    "Variable: A defined name that refernces an object.<br>\n",
    "id(varibale_name) # returns a unique id of an object\n",
    "\n",
    "### Functions : The manipulators of objects\n",
    "Function: A reusable piece of code that performs a specific task.\n",
    "\n",
    "\n"
   ]
  },
  {
   "cell_type": "markdown",
   "id": "2b7241c4",
   "metadata": {},
   "source": [
    "### Classes : The template of objects\n",
    "Class: A template for creating objects(records).\n",
    "\n",
    "### data types\n",
    "1. text - str\n",
    "2. numeric - int, float, complex\n",
    "3. sequence - list[], tuple(), range\n",
    "4. mapping - dict{:}\n",
    "5. set - set{}\n",
    "6. boolean - bool\n",
    "7. binary - bytes, bytearray, memoryview\n",
    "8. none - noneType\n"
   ]
  },
  {
   "cell_type": "markdown",
   "id": "fdf23eb2",
   "metadata": {},
   "source": [
    "### Strings\n",
    "built in data type<br>\n",
    "syntax: \"...\" or '...'<br>\n",
    "s.upper(),s.replace(old,new,count)<br>\n",
    "s.split()# returns the list of the substrings in the string, using sep as the seperator string.<br>\n",
    "\n",
    "\n"
   ]
  },
  {
   "cell_type": "code",
   "execution_count": 2,
   "id": "25de01da",
   "metadata": {},
   "outputs": [
    {
     "data": {
      "text/plain": [
       "'chithraAlle'"
      ]
     },
     "execution_count": 2,
     "metadata": {},
     "output_type": "execute_result"
    }
   ],
   "source": [
    "\n",
    "str.__add__(\"chithra\",\"Alle\") or \"chithra\".__add__(\"alle\") or \"chithra\"+\"alle\""
   ]
  },
  {
   "cell_type": "markdown",
   "id": "7a700523",
   "metadata": {},
   "source": [
    "#### string formatting\n",
    "1. create the string \"Role: Data Analyst\"\n",
    "role = \"data analyst\"\n",
    "skill = 'python'\n",
    "\"Role: {}\".format(role)\n",
    "\n",
    "2. create the string \"Role: Data Analyst; skill requires: Python\"\n",
    "\"Role: {}; skill requires: {}\".format(role,skill)\n",
    "\n",
    "#### String Literals\n",
    "print(f\"Name: {name}\\n Salary: {salary:.0f}\")<br>\n",
    "This is a formatted string literal, also called an f-string\n",
    "> :.0f means: round to nearest whole number<br>\n",
    "> :,.2f means: Thousands Separator (comma)\n",
    "\n",
    "#### printf-style\n",
    "'Role: %s\" %(role)\n",
    "\n"
   ]
  },
  {
   "cell_type": "markdown",
   "id": "76ca18ea",
   "metadata": {},
   "source": [
    "## Operators"
   ]
  },
  {
   "cell_type": "code",
   "execution_count": 3,
   "id": "deb3ad65",
   "metadata": {},
   "outputs": [
    {
     "data": {
      "text/plain": [
       "5.0"
      ]
     },
     "execution_count": 3,
     "metadata": {},
     "output_type": "execute_result"
    }
   ],
   "source": [
    "2 + 3.0"
   ]
  },
  {
   "cell_type": "code",
   "execution_count": 5,
   "id": "b0685799",
   "metadata": {},
   "outputs": [
    {
     "data": {
      "text/plain": [
       "7"
      ]
     },
     "execution_count": 5,
     "metadata": {},
     "output_type": "execute_result"
    }
   ],
   "source": [
    "two = 2\n",
    "two.__add__(5)"
   ]
  },
  {
   "cell_type": "code",
   "execution_count": 6,
   "id": "dc250db8",
   "metadata": {},
   "outputs": [
    {
     "data": {
      "text/plain": [
       "2.5"
      ]
     },
     "execution_count": 6,
     "metadata": {},
     "output_type": "execute_result"
    }
   ],
   "source": [
    "5/2"
   ]
  },
  {
   "cell_type": "code",
   "execution_count": 7,
   "id": "54937b57",
   "metadata": {},
   "outputs": [
    {
     "data": {
      "text/plain": [
       "2"
      ]
     },
     "execution_count": 7,
     "metadata": {},
     "output_type": "execute_result"
    }
   ],
   "source": [
    "5//2"
   ]
  },
  {
   "cell_type": "markdown",
   "id": "9398a886",
   "metadata": {},
   "source": [
    "#### mutable vs immutable in python\n",
    "Mutable<br>\n",
    "1. lists\n",
    "2. dict\n",
    "3. sets\n",
    "\n",
    "immutable<br>\n",
    "1. strings\n",
    "2. integers\n",
    "3. tuples"
   ]
  },
  {
   "cell_type": "code",
   "execution_count": 10,
   "id": "4c9c01bf",
   "metadata": {},
   "outputs": [
    {
     "data": {
      "text/plain": [
       "{'akhila', 'chithra', 'divya', 'zeorge'}"
      ]
     },
     "execution_count": 10,
     "metadata": {},
     "output_type": "execute_result"
    }
   ],
   "source": [
    "s = {\"chithra\", \"akhila\", \"divya\", \"zeorge\"}\n",
    "s"
   ]
  },
  {
   "cell_type": "code",
   "execution_count": 11,
   "id": "0414949a",
   "metadata": {},
   "outputs": [
    {
     "data": {
      "text/plain": [
       "{'akhila', 'chithra', 'divya', 'supriya', 'zeorge'}"
      ]
     },
     "execution_count": 11,
     "metadata": {},
     "output_type": "execute_result"
    }
   ],
   "source": [
    "s.add(\"supriya\")\n",
    "s"
   ]
  },
  {
   "cell_type": "code",
   "execution_count": 13,
   "id": "f58c5566",
   "metadata": {},
   "outputs": [
    {
     "data": {
      "text/plain": [
       "'zeorge'"
      ]
     },
     "execution_count": 13,
     "metadata": {},
     "output_type": "execute_result"
    }
   ],
   "source": [
    "s.pop()"
   ]
  },
  {
   "cell_type": "markdown",
   "id": "fe17ad44",
   "metadata": {},
   "source": [
    "|Feature|List|Dict|Set|Tuple|\n",
    "|-------|----|------|----|----|\n",
    "|syntax|[]|{key:value}|{}|()|\n",
    "|type of data|sequence|mapping|set|sequence|\n",
    "|order|ordered|unordered|unordered|ordered|\n",
    "|indexing|yes|yes|no|yes|\n",
    "|duplicate|allowed|values can be duplicant, keys cannot|not allowed|allowed|\n",
    "|mutability|yes|yes|yes|no|"
   ]
  }
 ],
 "metadata": {
  "kernelspec": {
   "display_name": "Python 3",
   "language": "python",
   "name": "python3"
  },
  "language_info": {
   "codemirror_mode": {
    "name": "ipython",
    "version": 3
   },
   "file_extension": ".py",
   "mimetype": "text/x-python",
   "name": "python",
   "nbconvert_exporter": "python",
   "pygments_lexer": "ipython3",
   "version": "3.13.2"
  }
 },
 "nbformat": 4,
 "nbformat_minor": 5
}
