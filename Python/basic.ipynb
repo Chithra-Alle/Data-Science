{
 "cells": [
  {
   "cell_type": "markdown",
   "id": "3d8e7524",
   "metadata": {},
   "source": [
    "## timeit\n",
    "syntax: %timit statement(for single line)<br>\n",
    "syntax: %%timeit<br>\n",
    "        codeblock (for multiple lines)<br>\n",
    "We use %timeit when we want to measure how fast a piece of code runs, especially when:\n",
    "1. Comparing Multiple Implementations\n",
    "2. Optimizing Slow Code\n",
    "3. Understanding Performance of Built-in Functions\n",
    "4. Learning Cost of Operations\n",
    "5. Profiling Small Code Snippets Before Production\n",
    "6. Checking the Impact of Data Size\n",
    "\n",
    "\n",
    "\n"
   ]
  },
  {
   "cell_type": "markdown",
   "id": "1a20ba99",
   "metadata": {},
   "source": []
  }
 ],
 "metadata": {
  "language_info": {
   "name": "python"
  }
 },
 "nbformat": 4,
 "nbformat_minor": 5
}
