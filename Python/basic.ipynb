{
 "cells": [
  {
   "cell_type": "markdown",
   "id": "3d8e7524",
   "metadata": {},
   "source": [
    "## timeit\n",
    "syntax: %timit statement(for single line)<br>\n",
    "syntax: %%timeit<br>\n",
    "        codeblock (for multiple lines)<br>\n",
    "We use %timeit when we want to measure how fast a piece of code runs, especially when:\n",
    "1. Comparing Multiple Implementations\n",
    "2. Optimizing Slow Code\n",
    "3. Understanding Performance of Built-in Functions\n",
    "4. Learning Cost of Operations\n",
    "5. Profiling Small Code Snippets Before Production\n",
    "6. Checking the Impact of Data Size\n",
    "\n",
    "\n",
    "\n"
   ]
  },
  {
   "cell_type": "markdown",
   "id": "d7ea3cc2",
   "metadata": {},
   "source": [
    "# python terms\n"
   ]
  },
  {
   "cell_type": "markdown",
   "id": "32d39f28",
   "metadata": {},
   "source": [
    "### Objects : The data records\n",
    "Object: A data record with fields, an instane of a class.<br>\n",
    "Everything in python is an object and it's basically a record of data.\n",
    "\n",
    "### Variables : The reference to Objects\n",
    "Variable: A defined name that refernces an object.<br>\n",
    "id(varibale_name) # returns a unique id of an object\n",
    "\n",
    "### Functions : The manipulators of objects\n",
    "Function: A reusable piece of code that performs a specific task.\n",
    "\n",
    "\n"
   ]
  },
  {
   "cell_type": "markdown",
   "id": "8abe1076",
   "metadata": {},
   "source": [
    "### String Literals\n",
    "print(f\"Name: {name}\\n Salary: {salary:.0f}\")<br>\n",
    "This is a formatted string literal, also called an f-string\n",
    "> :.0f means: round to nearest whole number<br>\n",
    "> :,.2f means: Thousands Separator (comma)\n",
    "\n"
   ]
  },
  {
   "cell_type": "markdown",
   "id": "2b7241c4",
   "metadata": {},
   "source": [
    "### Classes : The template of objects\n",
    "Class: A template for creating objects(records).\n",
    "\n",
    "### data types\n",
    "1. text - str\n",
    "2. numeric - int, float, complex\n",
    "3. sequence - list[], tuple(), range\n",
    "4. mapping - dict{:}\n",
    "5. set - set{}\n",
    "6. boolean - bool\n",
    "7. binary - bytes, bytearray, memoryview\n",
    "8. none - noneType\n"
   ]
  },
  {
   "cell_type": "markdown",
   "id": "fdf23eb2",
   "metadata": {},
   "source": [
    "### Strings\n",
    "built in data type<br>\n",
    "syntax: \"...\" or '...'<br>\n",
    "s.upper(),s.replace(old,new,count)<br>\n",
    "s.split()# returns the list of the substrings in the string, using sep as the seperator string.<br>\n",
    "\n",
    "\n"
   ]
  },
  {
   "cell_type": "code",
   "execution_count": 2,
   "id": "25de01da",
   "metadata": {},
   "outputs": [
    {
     "data": {
      "text/plain": [
       "'chithraAlle'"
      ]
     },
     "execution_count": 2,
     "metadata": {},
     "output_type": "execute_result"
    }
   ],
   "source": [
    "\n",
    "str.__add__(\"chithra\",\"Alle\") or \"chithra\".__add__(\"alle\") or \"chithra\"+\"alle\""
   ]
  }
 ],
 "metadata": {
  "kernelspec": {
   "display_name": "Python 3",
   "language": "python",
   "name": "python3"
  },
  "language_info": {
   "codemirror_mode": {
    "name": "ipython",
    "version": 3
   },
   "file_extension": ".py",
   "mimetype": "text/x-python",
   "name": "python",
   "nbconvert_exporter": "python",
   "pygments_lexer": "ipython3",
   "version": "3.13.2"
  }
 },
 "nbformat": 4,
 "nbformat_minor": 5
}
