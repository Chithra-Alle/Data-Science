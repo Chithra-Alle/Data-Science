{
 "cells": [
  {
   "cell_type": "markdown",
   "id": "2effcd04",
   "metadata": {},
   "source": [
    "## Common third party libraries for data nerds\n",
    "1. Pandas<br>\n",
    "pandas are popular in accessing tabular like data and then using something like data frame to analyze it<br>\n",
    "2. Numpy<br>\n",
    "3. Matplotlib<br>\n",
    "matplotlib are popular for visualizing the data into basically any type of plot that we want to\n",
    "4. Seaborn<br>\n",
    "5. SciPy<br>\n",
    "6. Scikit-learn<br>\n"
   ]
  }
 ],
 "metadata": {
  "language_info": {
   "name": "python"
  }
 },
 "nbformat": 4,
 "nbformat_minor": 5
}
